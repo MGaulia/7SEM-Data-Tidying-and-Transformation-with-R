{
 "cells": [
  {
   "cell_type": "code",
   "execution_count": 1,
   "id": "d93597cf",
   "metadata": {},
   "outputs": [
    {
     "data": {
      "text/plain": [
       "((2697, 7), (2697, 2))"
      ]
     },
     "execution_count": 1,
     "metadata": {},
     "output_type": "execute_result"
    }
   ],
   "source": [
    "# 0) duomenys\n",
    "import pandas as pd\n",
    "from sklearn.model_selection import train_test_split\n",
    "\n",
    "path = \"diamonds.csv\"\n",
    "df = pd.read_csv(path)\n",
    "\n",
    "# kiekybiniai stulpeliai\n",
    "qCols = ['carat', 'depth', 'table', 'price', 'x', 'y','z']\n",
    "\n",
    "# kokybiniai stulpeliai\n",
    "ordCols = ['cut', 'color', 'clarity']\n",
    "\n",
    "# df.iloc[:5,]\n",
    "# df.loc[:,['cut', 'color', 'clarity']].describe()\n",
    "\n",
    "# atrenkame 5 proc., kad skaičiavimai netruktų per ilgai\n",
    "df = df.groupby('cut', group_keys=False).apply(pd.DataFrame.sample,random_state=0, frac=.05)\n",
    "\n",
    "X0, X1, y = df.loc[:,qCols].values,df.loc[:,['color','clarity']].values, df['cut'].values\n",
    "\n",
    "X0_train, X0_test, X1_train, X1_test, y_train, y_test = train_test_split(X0, X1, y, train_size=0.75,stratify=y, random_state=0)\n",
    "X0.shape,X1.shape\n",
    "\n",
    "# Duomenų rinkmenoje diamonds.csv pateikiami duomenys apie deimantus, paimti iš R paketo ggplot2. Stulpelių aprašymas:\n",
    "\n",
    "# price - kaina USD;\n",
    "\n",
    "# carat - svoris karatais; \n",
    "\n",
    "# cut - pjovimo kokybė (Fair, Good, Very Good, Premium, Ideal);\n",
    "\n",
    "# color - spalva (kinta nuo D (geriausia) iki J (blogiausia));\n",
    "\n",
    "# clarity - skaidrumas (I1 (prasčiausias), SI2, SI1, VS2, VS1, VVS2, VVS1, IF (geriausias));\n",
    "\n",
    "# x - ilgis mm (0–10.74);\n",
    "\n",
    "# y - plotis mm (0–58.9);\n",
    "\n",
    "# z - gylis mm (0–31.8);\n",
    "\n",
    "# depth - išvestinis dydis = 2 * z / (x + y);\n",
    "\n",
    "# table - deimanto viršutinės dalies santykinis plotis.\n",
    "\n",
    "# cut, color, clarity - kokybiniai požymiai, likę - kiekybiniai požymiai."
   ]
  },
  {
   "cell_type": "code",
   "execution_count": null,
   "id": "36d71c4a",
   "metadata": {},
   "outputs": [],
   "source": [
    "import numpy as np"
   ]
  },
  {
   "cell_type": "markdown",
   "id": "c90b708e",
   "metadata": {},
   "source": [
    "# 1"
   ]
  },
  {
   "cell_type": "code",
   "execution_count": 36,
   "id": "6075bad9",
   "metadata": {},
   "outputs": [],
   "source": [
    "from sklearn.metrics import f1_score\n",
    "from sklearn.metrics import jaccard_score"
   ]
  },
  {
   "cell_type": "markdown",
   "id": "9a7e29ec",
   "metadata": {},
   "source": [
    "## a)"
   ]
  },
  {
   "cell_type": "code",
   "execution_count": 38,
   "id": "9b6c6100",
   "metadata": {},
   "outputs": [
    {
     "name": "stdout",
     "output_type": "stream",
     "text": [
      "0.4652325676770775 0.43312101910828027\n"
     ]
    }
   ],
   "source": [
    "from sklearn.naive_bayes import GaussianNB\n",
    "gnb = GaussianNB()\n",
    "gnb.fit(X0_train, y_train)\n",
    "gnbpred = gnb.predict(X0_test)\n",
    "print(f1_score(y_test, gnbpred, average='macro'), jaccard_score(y_test, gnbpred, average=\"micro\"))"
   ]
  },
  {
   "cell_type": "markdown",
   "id": "fff3e807",
   "metadata": {},
   "source": [
    "## b)"
   ]
  },
  {
   "cell_type": "code",
   "execution_count": 21,
   "id": "1191790c",
   "metadata": {},
   "outputs": [
    {
     "data": {
      "text/plain": [
       "OrdinalEncoder()"
      ]
     },
     "execution_count": 21,
     "metadata": {},
     "output_type": "execute_result"
    }
   ],
   "source": [
    "from sklearn.preprocessing import OrdinalEncoder\n",
    "oenc = OrdinalEncoder()\n",
    "oenc.fit(X1)"
   ]
  },
  {
   "cell_type": "code",
   "execution_count": 39,
   "id": "699b37aa",
   "metadata": {},
   "outputs": [
    {
     "name": "stdout",
     "output_type": "stream",
     "text": [
      "0.15950654752696725 0.25348189415041783\n"
     ]
    }
   ],
   "source": [
    "from sklearn.naive_bayes import CategoricalNB\n",
    "cnb = CategoricalNB()\n",
    "cnb.fit(oenc.transform(X1_train), y_train)\n",
    "cnbpred = cnb.predict(oenc.transform(X1_test))\n",
    "print(f1_score(y_test, cnbpred, average='macro'), jaccard_score(y_test, cnbpred, average=\"micro\"))"
   ]
  },
  {
   "cell_type": "markdown",
   "id": "7266e994",
   "metadata": {},
   "source": [
    "## c)"
   ]
  },
  {
   "cell_type": "code",
   "execution_count": 50,
   "id": "bbcba31b",
   "metadata": {},
   "outputs": [],
   "source": [
    "from sklearn.model_selection import GridSearchCV\n",
    "par_grid = {'C': [0.01,0.1, 1.0, 10, 100, 1000]}"
   ]
  },
  {
   "cell_type": "code",
   "execution_count": 60,
   "id": "e5cc84b4",
   "metadata": {},
   "outputs": [
    {
     "name": "stdout",
     "output_type": "stream",
     "text": [
      "0.18322059829051962\n"
     ]
    }
   ],
   "source": [
    "gsf1 = GridSearchCV(estimator=SVC(kernel='rbf' , decision_function_shape='ovr'), \n",
    "                           param_grid=par_grid, \n",
    "                           scoring='f1_macro',cv=10)\n",
    "gsf1.fit(X0_train,y_train)\n",
    "gsf1pred = gsf1.best_estimator_.predict(X0_test)\n",
    "print(f1_score(y_test, gsf1pred, average='macro'))"
   ]
  },
  {
   "cell_type": "code",
   "execution_count": 61,
   "id": "046befe1",
   "metadata": {},
   "outputs": [
    {
     "name": "stdout",
     "output_type": "stream",
     "text": [
      "0.2605042016806723\n"
     ]
    }
   ],
   "source": [
    "gsjm = GridSearchCV(estimator=SVC(kernel='rbf' , decision_function_shape='ovr'), \n",
    "                           param_grid=par_grid, \n",
    "                           scoring='jaccard_micro',cv=10)\n",
    "gsjm.fit(X0_train,y_train)\n",
    "gsjmpred = gsjm.best_estimator_.predict(X0_test)\n",
    "print(jaccard_score(y_test, gsjmpred, average='micro'))"
   ]
  },
  {
   "cell_type": "markdown",
   "id": "92c4f6cf",
   "metadata": {},
   "source": [
    "Geriausiai prognozavo Gauso NB pagal kiekybinius kintamuosius"
   ]
  },
  {
   "cell_type": "markdown",
   "id": "316498ba",
   "metadata": {},
   "source": [
    "Galimai nes kiekybiniai kintamieji yra issideste pagal gauso pasiskirstyma"
   ]
  },
  {
   "cell_type": "markdown",
   "id": "937a367e",
   "metadata": {},
   "source": [
    "# 2"
   ]
  },
  {
   "cell_type": "code",
   "execution_count": 158,
   "id": "40c552ef",
   "metadata": {},
   "outputs": [],
   "source": [
    "from sklearn.ensemble import GradientBoostingClassifier\n",
    "from sklearn.metrics import classification_report"
   ]
  },
  {
   "cell_type": "code",
   "execution_count": 159,
   "id": "a9cc766e",
   "metadata": {},
   "outputs": [],
   "source": [
    "gamk_grid = {\n",
    "            'learning_rate':[0.1, 0.5, 1.0],\n",
    "            'n_estimators':[5,10,15,20],\n",
    "            'min_samples_split': [2, 4, 6]}"
   ]
  },
  {
   "cell_type": "code",
   "execution_count": 160,
   "id": "addaba9b",
   "metadata": {},
   "outputs": [
    {
     "data": {
      "text/plain": [
       "GridSearchCV(cv=10, estimator=GradientBoostingClassifier(),\n",
       "             param_grid={'learning_rate': [0.1, 0.5, 1.0],\n",
       "                         'min_samples_split': [2, 4, 6],\n",
       "                         'n_estimators': [5, 10, 15, 20]},\n",
       "             scoring='f1_micro')"
      ]
     },
     "execution_count": 160,
     "metadata": {},
     "output_type": "execute_result"
    }
   ],
   "source": [
    "gamk = GridSearchCV(estimator=GradientBoostingClassifier(), \n",
    "                           param_grid=gamk_grid, \n",
    "                           scoring='f1_micro',cv=10)\n",
    "gamk.fit(X0_train, y_train)"
   ]
  },
  {
   "cell_type": "code",
   "execution_count": 161,
   "id": "1af421ba",
   "metadata": {},
   "outputs": [
    {
     "data": {
      "text/plain": [
       "GradientBoostingClassifier(min_samples_split=6, n_estimators=20)"
      ]
     },
     "execution_count": 161,
     "metadata": {},
     "output_type": "execute_result"
    }
   ],
   "source": [
    "gamk.best_estimator_"
   ]
  },
  {
   "cell_type": "code",
   "execution_count": 162,
   "id": "6463b0bd",
   "metadata": {},
   "outputs": [
    {
     "name": "stdout",
     "output_type": "stream",
     "text": [
      "Klasifikavimo metrikos testavimo aibėje: \n",
      "              precision    recall  f1-score   support\n",
      "\n",
      "        Fair       0.75      0.75      0.75        20\n",
      "        Good       0.51      0.70      0.59        44\n",
      "       Ideal       0.94      0.81      0.87       315\n",
      "     Premium       0.81      0.64      0.71       220\n",
      "   Very Good       0.30      0.59      0.40        76\n",
      "\n",
      "    accuracy                           0.72       675\n",
      "   macro avg       0.66      0.70      0.66       675\n",
      "weighted avg       0.79      0.72      0.74       675\n",
      "\n",
      "\n"
     ]
    }
   ],
   "source": [
    "print(\"Klasifikavimo metrikos testavimo aibėje: \\n{}\\n\".format(classification_report(gamk.best_estimator_.predict(X0_test),y_test)))"
   ]
  },
  {
   "cell_type": "markdown",
   "id": "d367108d",
   "metadata": {},
   "source": [
    "Matome iš rezulatų lentelės kad modelis nėra persimokęs."
   ]
  },
  {
   "cell_type": "markdown",
   "id": "6092ccef",
   "metadata": {},
   "source": [
    "# 3"
   ]
  },
  {
   "cell_type": "code",
   "execution_count": 167,
   "id": "3c3855bd",
   "metadata": {},
   "outputs": [],
   "source": [
    "from sklearn.ensemble import VotingClassifier\n",
    "from sklearn.metrics import accuracy_score"
   ]
  },
  {
   "cell_type": "code",
   "execution_count": 172,
   "id": "8590b732",
   "metadata": {},
   "outputs": [
    {
     "name": "stdout",
     "output_type": "stream",
     "text": [
      "Accuracy:  0.6044444444444445\n",
      "Accuracy:  0.41333333333333333\n",
      "Accuracy:  0.49333333333333335\n",
      "Accuracy:  0.5881481481481482\n"
     ]
    }
   ],
   "source": [
    "gnb = GaussianNB()\n",
    "jaccavk = SVC(C=1000, probability = True)\n",
    "hard = VotingClassifier([('Gaussian NB',gnb),('Jaccard AVK',jaccavk)], voting=\"hard\")\n",
    "soft = VotingClassifier([('Gaussian NB',gnb),('Jaccard AVK',jaccavk)], voting=\"soft\",\n",
    "                    weights=[0.43312101910828027, 0.2605042016806723])\n",
    "\n",
    "gnb.fit(X0_train, y_train)\n",
    "jaccavk.fit(X0_train, y_train)\n",
    "hard.fit(X0_train, y_train)\n",
    "soft.fit(X0_train, y_train)\n",
    "\n",
    "for clf, label in zip([gnb, gsjm, hard, soft], ['Gaussian NB', 'Jaccard AVK', 'Hard', 'Soft']):\n",
    "        print(\"Accuracy: \", accuracy_score(clf.predict(X0_test), y_test))"
   ]
  }
 ],
 "metadata": {
  "kernelspec": {
   "display_name": "Python 3 (ipykernel)",
   "language": "python",
   "name": "python3"
  },
  "language_info": {
   "codemirror_mode": {
    "name": "ipython",
    "version": 3
   },
   "file_extension": ".py",
   "mimetype": "text/x-python",
   "name": "python",
   "nbconvert_exporter": "python",
   "pygments_lexer": "ipython3",
   "version": "3.9.12"
  }
 },
 "nbformat": 4,
 "nbformat_minor": 5
}
