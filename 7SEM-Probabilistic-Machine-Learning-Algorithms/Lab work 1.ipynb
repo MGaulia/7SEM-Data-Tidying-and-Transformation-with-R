{
 "cells": [
  {
   "cell_type": "code",
   "execution_count": 1,
   "metadata": {},
   "outputs": [
    {
     "name": "stderr",
     "output_type": "stream",
     "text": [
      "<frozen importlib._bootstrap>:219: RuntimeWarning: scipy._lib.messagestream.MessageStream size changed, may indicate binary incompatibility. Expected 56 from C header, got 64 from PyObject\n"
     ]
    }
   ],
   "source": [
    "# Paketai\n",
    "import numpy as np\n",
    "import matplotlib.pyplot as plt\n",
    "import pandas as pd\n",
    "import mglearn\n",
    "from sklearn.ensemble import RandomForestClassifier\n",
    "from sklearn.model_selection import GridSearchCV\n"
   ]
  },
  {
   "cell_type": "code",
   "execution_count": 2,
   "metadata": {},
   "outputs": [],
   "source": [
    "df = pd.read_csv(\"Stars.csv\")\n",
    "df['Color'].unique()\n",
    "df['color_pure'] = np.int8(df['Color'].isin(['Red', 'White', 'Blue', 'Orange' 'white']))\n",
    "for c in df['Spectral_Class'].unique():\n",
    "    df['sp_class_' + c] = np.int8(df['Spectral_Class']==c)"
   ]
  },
  {
   "cell_type": "markdown",
   "metadata": {},
   "source": [
    "# 1"
   ]
  },
  {
   "cell_type": "code",
   "execution_count": 3,
   "metadata": {},
   "outputs": [],
   "source": [
    "from sklearn.model_selection import cross_validate\n",
    "# reikia tik kiekybinių požymių\n",
    "X,y = df[['Temperature', 'L', 'R', 'A_M']].values, np.int8( df['Type']==2)"
   ]
  },
  {
   "cell_type": "code",
   "execution_count": 4,
   "metadata": {},
   "outputs": [
    {
     "data": {
      "text/plain": [
       "1.0"
      ]
     },
     "execution_count": 4,
     "metadata": {},
     "output_type": "execute_result"
    }
   ],
   "source": [
    "# a\n",
    "rfa = RandomForestClassifier(random_state=0)\n",
    "cross_validate(rfa, X, y, cv = 5)['test_score'].mean()"
   ]
  },
  {
   "cell_type": "code",
   "execution_count": 5,
   "metadata": {},
   "outputs": [
    {
     "data": {
      "text/plain": [
       "1.0"
      ]
     },
     "execution_count": 5,
     "metadata": {},
     "output_type": "execute_result"
    }
   ],
   "source": [
    "# b\n",
    "grid = {\n",
    "    'max_depth': [3, 4, 5],\n",
    "    'min_samples_leaf': [1,2,3,4,5],\n",
    "    'max_features': [1,2,3,],\n",
    "}\n",
    "grid_search = GridSearchCV(\n",
    "    estimator=RandomForestClassifier(),\n",
    "    param_grid=grid, \n",
    "    cv=3)\n",
    "rfb = grid_search.fit(X,y)\n",
    "rfb.best_score_\n"
   ]
  },
  {
   "cell_type": "code",
   "execution_count": 6,
   "metadata": {},
   "outputs": [
    {
     "data": {
      "text/plain": [
       "1.0"
      ]
     },
     "execution_count": 6,
     "metadata": {},
     "output_type": "execute_result"
    }
   ],
   "source": [
    "# c\n",
    "rfc = RandomForestClassifier(random_state=0, \n",
    "                             criterion = 'entropy')\n",
    "cross_validate(rfc, X, y, cv = 5)['test_score'].mean()"
   ]
  },
  {
   "cell_type": "markdown",
   "metadata": {},
   "source": [
    "# 2"
   ]
  },
  {
   "cell_type": "code",
   "execution_count": 7,
   "metadata": {},
   "outputs": [],
   "source": [
    "from sklearn.model_selection import validation_curve\n",
    "X,y = df[['Temperature', 'L', 'R', 'A_M', 'sp_class_M','color_pure', \n",
    "          'sp_class_B', 'sp_class_A','sp_class_F', 'sp_class_O',\n",
    "          'sp_class_K']].values, np.int8(df['Type']==2)\n",
    "prange = [10*i for i in range(1, 50+1)]"
   ]
  },
  {
   "cell_type": "code",
   "execution_count": 8,
   "metadata": {},
   "outputs": [
    {
     "data": {
      "text/plain": [
       "<matplotlib.legend.Legend at 0x294f75730>"
      ]
     },
     "execution_count": 8,
     "metadata": {},
     "output_type": "execute_result"
    },
    {
     "data": {
      "image/png": "[encoded data removed]",
      "text/plain": [
       "<Figure size 432x288 with 1 Axes>"
      ]
     },
     "metadata": {
      "needs_background": "light"
     },
     "output_type": "display_data"
    }
   ],
   "source": [
    "train_scores, valid_scores = validation_curve(\n",
    "RandomForestClassifier(random_state=0),\n",
    "X,\n",
    "y,\n",
    "param_name=\"n_estimators\",\n",
    "param_range= prange)\n",
    "plt.plot(prange, train_scores.mean(axis = 1), label = 'train')\n",
    "plt.plot(prange, valid_scores.mean(axis = 1), label = 'valid')\n",
    "plt.legend()"
   ]
  },
  {
   "cell_type": "code",
   "execution_count": 9,
   "metadata": {},
   "outputs": [],
   "source": [
    "# b\n",
    "# su visais n_estimators klasifikuoja tobulai"
   ]
  },
  {
   "cell_type": "code",
   "execution_count": 10,
   "metadata": {},
   "outputs": [
    {
     "data": {
      "text/plain": [
       "<matplotlib.legend.Legend at 0x2952ef4c0>"
      ]
     },
     "execution_count": 10,
     "metadata": {},
     "output_type": "execute_result"
    },
    {
     "data": {
      "image/png": "[encoded data removed]",
      "text/plain": [
       "<Figure size 432x288 with 1 Axes>"
      ]
     },
     "metadata": {
      "needs_background": "light"
     },
     "output_type": "display_data"
    }
   ],
   "source": [
    "# c\n",
    "train_scores, valid_scores = validation_curve(\n",
    "RandomForestClassifier(random_state=0),\n",
    "X,\n",
    "y,\n",
    "param_name=\"n_estimators\",\n",
    "param_range= prange,\n",
    "scoring='roc_auc')\n",
    "plt.plot(prange, train_scores.mean(axis = 1), label = 'train')\n",
    "plt.plot(prange, valid_scores.mean(axis = 1), label = 'valid')\n",
    "plt.legend()"
   ]
  },
  {
   "cell_type": "code",
   "execution_count": 11,
   "metadata": {},
   "outputs": [],
   "source": [
    "# Su visais n_estimators tobulai klasifikuoja"
   ]
  },
  {
   "cell_type": "markdown",
   "metadata": {},
   "source": [
    "# 3 "
   ]
  },
  {
   "cell_type": "code",
   "execution_count": 12,
   "metadata": {},
   "outputs": [],
   "source": [
    "from sklearn.model_selection import train_test_split\n",
    "from sklearn import metrics\n",
    "X,y = df[['Temperature', 'L', 'R', 'A_M', 'sp_class_M','color_pure', \n",
    "          'sp_class_B', 'sp_class_A','sp_class_F', 'sp_class_O',\n",
    "          'sp_class_K']].values, np.int8(df['Type']==2)"
   ]
  },
  {
   "cell_type": "code",
   "execution_count": 13,
   "metadata": {},
   "outputs": [],
   "source": [
    "# n_estimators renkuos 30\n",
    "# parametrus renkuosi nutyletus (default)\n",
    "rf = RandomForestClassifier(n_estimators=30, random_state=0)"
   ]
  },
  {
   "cell_type": "code",
   "execution_count": 14,
   "metadata": {},
   "outputs": [
    {
     "name": "stdout",
     "output_type": "stream",
     "text": [
      "F1:  1.0\n",
      "AUC:  1.0\n"
     ]
    }
   ],
   "source": [
    "# a\n",
    "xtrain, xtest, ytrain, ytest = train_test_split(X, y, train_size=0.75, random_state=0)\n",
    "rf = RandomForestClassifier(n_estimators=30, random_state=0)\n",
    "rf.fit(xtrain, ytrain)\n",
    "pred = rf.predict(xtest)\n",
    "print(\"F1: \", metrics.f1_score(ytest, pred))\n",
    "fpr, tpr, thresholds = metrics.roc_curve(ytest, pred)\n",
    "print(\"AUC: \", metrics.auc(fpr, tpr))\n"
   ]
  },
  {
   "cell_type": "code",
   "execution_count": 15,
   "metadata": {},
   "outputs": [
    {
     "name": "stdout",
     "output_type": "stream",
     "text": [
      "F1:  1.0\n",
      "AUC:  1.0\n"
     ]
    }
   ],
   "source": [
    "# b\n",
    "rf = RandomForestClassifier(n_estimators=30, random_state=0, oob_score=True)\n",
    "rf.fit(X, y)\n",
    "pred = np.argmax(rf.oob_decision_function_,axis=1)\n",
    "print(\"F1: \", metrics.f1_score(y, pred))\n",
    "fpr, tpr, thresholds = metrics.roc_curve(y, pred)\n",
    "print(\"AUC: \", metrics.auc(fpr, tpr))\n"
   ]
  },
  {
   "cell_type": "markdown",
   "metadata": {},
   "source": [
    "# 4"
   ]
  },
  {
   "cell_type": "code",
   "execution_count": 16,
   "metadata": {},
   "outputs": [],
   "source": [
    "from sklearn import tree\n",
    "X,y = df[['Temperature', 'L', 'R', 'A_M']].values, np.int8( df['Type']==2)"
   ]
  },
  {
   "cell_type": "code",
   "execution_count": 17,
   "metadata": {},
   "outputs": [
    {
     "data": {
      "text/plain": [
       "DecisionTreeClassifier(max_leaf_nodes=5, random_state=0)"
      ]
     },
     "execution_count": 17,
     "metadata": {},
     "output_type": "execute_result"
    }
   ],
   "source": [
    "# a\n",
    "treea = tree.DecisionTreeClassifier(random_state=0,\n",
    "                                    max_depth=4)\n",
    "treea.fit(X, y)\n",
    "# b\n",
    "treeb = tree.DecisionTreeClassifier(random_state=0,\n",
    "                                    min_impurity_decrease=0.01)\n",
    "treeb.fit(X, y)\n",
    "# c\n",
    "treec = tree.DecisionTreeClassifier(random_state=0,\n",
    "                                    max_leaf_nodes=5)\n",
    "treec.fit(X, y)\n"
   ]
  },
  {
   "cell_type": "code",
   "execution_count": 18,
   "metadata": {},
   "outputs": [
    {
     "name": "stdout",
     "output_type": "stream",
     "text": [
      "Mazgu skaicius treea 3\n",
      "Mazgu skaicius treeb 3\n",
      "Mazgu skaicius treec 3\n"
     ]
    }
   ],
   "source": [
    "print(\"Mazgu skaicius treea\", treea.tree_.node_count)\n",
    "print(\"Mazgu skaicius treeb\", treeb.tree_.node_count)\n",
    "print(\"Mazgu skaicius treec\", treec.tree_.node_count)\n",
    "# Visi vienodi, imu treea"
   ]
  },
  {
   "cell_type": "code",
   "execution_count": 19,
   "metadata": {},
   "outputs": [
    {
     "data": {
      "image/png": "[encoded data removed]",
      "text/plain": [
       "<Figure size 864x576 with 1 Axes>"
      ]
     },
     "metadata": {
      "needs_background": "light"
     },
     "output_type": "display_data"
    }
   ],
   "source": [
    "fig_width, fig_height = 12, 8\n",
    "plt.rcParams['figure.figsize'] = [fig_width, fig_height]\n",
    "tree.plot_tree(treea)\n",
    "plt.show()"
   ]
  },
  {
   "cell_type": "code",
   "execution_count": 20,
   "metadata": {},
   "outputs": [
    {
     "data": {
      "text/html": [
       "<div>\n",
       "<style scoped>\n",
       "    .dataframe tbody tr th:only-of-type {\n",
       "        vertical-align: middle;\n",
       "    }\n",
       "\n",
       "    .dataframe tbody tr th {\n",
       "        vertical-align: top;\n",
       "    }\n",
       "\n",
       "    .dataframe thead th {\n",
       "        text-align: right;\n",
       "    }\n",
       "</style>\n",
       "<table border=\"1\" class=\"dataframe\">\n",
       "  <thead>\n",
       "    <tr style=\"text-align: right;\">\n",
       "      <th></th>\n",
       "      <th>feature</th>\n",
       "      <th>importance</th>\n",
       "    </tr>\n",
       "  </thead>\n",
       "  <tbody>\n",
       "    <tr>\n",
       "      <th>0</th>\n",
       "      <td>Temperature</td>\n",
       "      <td>0.0</td>\n",
       "    </tr>\n",
       "    <tr>\n",
       "      <th>1</th>\n",
       "      <td>L</td>\n",
       "      <td>0.0</td>\n",
       "    </tr>\n",
       "    <tr>\n",
       "      <th>2</th>\n",
       "      <td>R</td>\n",
       "      <td>1.0</td>\n",
       "    </tr>\n",
       "    <tr>\n",
       "      <th>3</th>\n",
       "      <td>A_M</td>\n",
       "      <td>0.0</td>\n",
       "    </tr>\n",
       "  </tbody>\n",
       "</table>\n",
       "</div>"
      ],
      "text/plain": [
       "       feature  importance\n",
       "0  Temperature         0.0\n",
       "1            L         0.0\n",
       "2            R         1.0\n",
       "3          A_M         0.0"
      ]
     },
     "execution_count": 20,
     "metadata": {},
     "output_type": "execute_result"
    }
   ],
   "source": [
    "\n",
    "pd.DataFrame({\n",
    "    'feature':['Temperature', 'L', 'R', 'A_M'],\n",
    "    'importance':treea.feature_importances_}\n",
    "             )"
   ]
  },
  {
   "cell_type": "code",
   "execution_count": 21,
   "metadata": {},
   "outputs": [],
   "source": [
    "# Svarbiausias pozymis - R - Relative radius"
   ]
  }
 ],
 "metadata": {
  "kernelspec": {
   "display_name": "Python 3.8.13 ('torch')",
   "language": "python",
   "name": "python3"
  },
  "language_info": {
   "codemirror_mode": {
    "name": "ipython",
    "version": 3
   },
   "file_extension": ".py",
   "mimetype": "text/x-python",
   "name": "python",
   "nbconvert_exporter": "python",
   "pygments_lexer": "ipython3",
   "version": "3.8.13"
  },
  "orig_nbformat": 4,
  "vscode": {
   "interpreter": {
    "hash": "678790cdcacf2010aba7b81eb87e97d4f8d8a8b87d860ce48b049d46b72c3200"
   }
  }
 },
 "nbformat": 4,
 "nbformat_minor": 2
}
