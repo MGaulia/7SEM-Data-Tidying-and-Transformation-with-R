{
 "cells": [
  {
   "cell_type": "code",
   "execution_count": 1,
   "id": "bbceddf8",
   "metadata": {},
   "outputs": [
    {
     "name": "stderr",
     "output_type": "stream",
     "text": [
      "<frozen importlib._bootstrap>:219: RuntimeWarning: scipy._lib.messagestream.MessageStream size changed, may indicate binary incompatibility. Expected 56 from C header, got 64 from PyObject\n"
     ]
    }
   ],
   "source": [
    "import pandas as pd\n",
    "import numpy as np\n",
    "from sklearn.model_selection import train_test_split\n",
    "\n",
    "path = \"Date_Fruit_Datasets.xlsx\"\n",
    "df = pd.read_excel(io=path,sheet_name=\"Date_Fruit_Datasets\")\n",
    "\n",
    "X, y = df.drop(['Class'],axis=1), df['Class']\n",
    "\n",
    "# duomenys antrai užduočiai\n",
    "X_train, X_test, y_train, y_test = train_test_split(X,y, train_size=0.75,stratify=y, random_state=0)\n",
    "X.shape,y.shape\n",
    "\n",
    "# duomenys pirmai užduočiai\n",
    "X1, X_train1, X_test1, y1, y_train1, y_test1 = X.iloc[:,1:],X_train.iloc[:,1:],X_test.iloc[:,1:],X.iloc[:,0],X_train.iloc[:,0], X_test.iloc[:,0]"
   ]
  },
  {
   "cell_type": "markdown",
   "id": "ae16d31d",
   "metadata": {},
   "source": [
    "# 1"
   ]
  },
  {
   "cell_type": "code",
   "execution_count": 2,
   "id": "16ade265",
   "metadata": {},
   "outputs": [],
   "source": [
    "from sklearn.ensemble import RandomForestRegressor"
   ]
  },
  {
   "cell_type": "markdown",
   "id": "ac1973fe",
   "metadata": {},
   "source": [
    "## a"
   ]
  },
  {
   "cell_type": "code",
   "execution_count": 3,
   "id": "1b2a93b0",
   "metadata": {},
   "outputs": [
    {
     "data": {
      "text/html": [
       "<div>\n",
       "<style scoped>\n",
       "    .dataframe tbody tr th:only-of-type {\n",
       "        vertical-align: middle;\n",
       "    }\n",
       "\n",
       "    .dataframe tbody tr th {\n",
       "        vertical-align: top;\n",
       "    }\n",
       "\n",
       "    .dataframe thead th {\n",
       "        text-align: right;\n",
       "    }\n",
       "</style>\n",
       "<table border=\"1\" class=\"dataframe\">\n",
       "  <thead>\n",
       "    <tr style=\"text-align: right;\">\n",
       "      <th></th>\n",
       "      <th>f-statistic</th>\n",
       "      <th>col</th>\n",
       "    </tr>\n",
       "  </thead>\n",
       "  <tbody>\n",
       "    <tr>\n",
       "      <th>0</th>\n",
       "      <td>313072.971736</td>\n",
       "      <td>CONVEX_AREA</td>\n",
       "    </tr>\n",
       "    <tr>\n",
       "      <th>1</th>\n",
       "      <td>46309.734909</td>\n",
       "      <td>EQDIASQ</td>\n",
       "    </tr>\n",
       "    <tr>\n",
       "      <th>2</th>\n",
       "      <td>6912.783610</td>\n",
       "      <td>PERIMETER</td>\n",
       "    </tr>\n",
       "    <tr>\n",
       "      <th>3</th>\n",
       "      <td>6579.097859</td>\n",
       "      <td>MINOR_AXIS</td>\n",
       "    </tr>\n",
       "    <tr>\n",
       "      <th>4</th>\n",
       "      <td>2123.690977</td>\n",
       "      <td>MAJOR_AXIS</td>\n",
       "    </tr>\n",
       "    <tr>\n",
       "      <th>5</th>\n",
       "      <td>1917.124935</td>\n",
       "      <td>SHAPEFACTOR_2</td>\n",
       "    </tr>\n",
       "    <tr>\n",
       "      <th>6</th>\n",
       "      <td>238.957094</td>\n",
       "      <td>EntropyRB</td>\n",
       "    </tr>\n",
       "    <tr>\n",
       "      <th>7</th>\n",
       "      <td>149.401720</td>\n",
       "      <td>KurtosisRB</td>\n",
       "    </tr>\n",
       "    <tr>\n",
       "      <th>8</th>\n",
       "      <td>149.054148</td>\n",
       "      <td>SkewRB</td>\n",
       "    </tr>\n",
       "    <tr>\n",
       "      <th>9</th>\n",
       "      <td>128.956544</td>\n",
       "      <td>SkewRG</td>\n",
       "    </tr>\n",
       "    <tr>\n",
       "      <th>10</th>\n",
       "      <td>124.353132</td>\n",
       "      <td>EntropyRG</td>\n",
       "    </tr>\n",
       "    <tr>\n",
       "      <th>11</th>\n",
       "      <td>115.534066</td>\n",
       "      <td>ALLdaub4RG</td>\n",
       "    </tr>\n",
       "    <tr>\n",
       "      <th>12</th>\n",
       "      <td>115.519210</td>\n",
       "      <td>MeanRG</td>\n",
       "    </tr>\n",
       "    <tr>\n",
       "      <th>13</th>\n",
       "      <td>111.158473</td>\n",
       "      <td>ALLdaub4RB</td>\n",
       "    </tr>\n",
       "    <tr>\n",
       "      <th>14</th>\n",
       "      <td>111.128857</td>\n",
       "      <td>MeanRB</td>\n",
       "    </tr>\n",
       "  </tbody>\n",
       "</table>\n",
       "</div>"
      ],
      "text/plain": [
       "      f-statistic            col\n",
       "0   313072.971736    CONVEX_AREA\n",
       "1    46309.734909        EQDIASQ\n",
       "2     6912.783610      PERIMETER\n",
       "3     6579.097859     MINOR_AXIS\n",
       "4     2123.690977     MAJOR_AXIS\n",
       "5     1917.124935  SHAPEFACTOR_2\n",
       "6      238.957094      EntropyRB\n",
       "7      149.401720     KurtosisRB\n",
       "8      149.054148         SkewRB\n",
       "9      128.956544         SkewRG\n",
       "10     124.353132      EntropyRG\n",
       "11     115.534066     ALLdaub4RG\n",
       "12     115.519210         MeanRG\n",
       "13     111.158473     ALLdaub4RB\n",
       "14     111.128857         MeanRB"
      ]
     },
     "execution_count": 3,
     "metadata": {},
     "output_type": "execute_result"
    }
   ],
   "source": [
    "from sklearn.feature_selection import f_regression\n",
    "aimportance = pd.DataFrame.from_dict(\n",
    "    {\n",
    "        'f-statistic':f_regression(X_train1, y_train1)[0],\n",
    "        'col' : X_train1.columns,\n",
    "    }\n",
    ").sort_values(by = 'f-statistic', ascending=False).iloc[:15].reset_index(drop = True)\n",
    "aimportance"
   ]
  },
  {
   "cell_type": "code",
   "execution_count": 4,
   "id": "7503ac33",
   "metadata": {},
   "outputs": [],
   "source": [
    "areg = RandomForestRegressor(random_state=0).fit(X_train1[aimportance.col], y_train1)"
   ]
  },
  {
   "cell_type": "markdown",
   "id": "cf9b2b85",
   "metadata": {},
   "source": [
    "## b"
   ]
  },
  {
   "cell_type": "code",
   "execution_count": 5,
   "id": "1752624a",
   "metadata": {},
   "outputs": [
    {
     "data": {
      "text/html": [
       "<div>\n",
       "<style scoped>\n",
       "    .dataframe tbody tr th:only-of-type {\n",
       "        vertical-align: middle;\n",
       "    }\n",
       "\n",
       "    .dataframe tbody tr th {\n",
       "        vertical-align: top;\n",
       "    }\n",
       "\n",
       "    .dataframe thead th {\n",
       "        text-align: right;\n",
       "    }\n",
       "</style>\n",
       "<table border=\"1\" class=\"dataframe\">\n",
       "  <thead>\n",
       "    <tr style=\"text-align: right;\">\n",
       "      <th></th>\n",
       "      <th>MI</th>\n",
       "      <th>col</th>\n",
       "    </tr>\n",
       "  </thead>\n",
       "  <tbody>\n",
       "    <tr>\n",
       "      <th>0</th>\n",
       "      <td>5.095102</td>\n",
       "      <td>EQDIASQ</td>\n",
       "    </tr>\n",
       "    <tr>\n",
       "      <th>1</th>\n",
       "      <td>3.515899</td>\n",
       "      <td>CONVEX_AREA</td>\n",
       "    </tr>\n",
       "    <tr>\n",
       "      <th>2</th>\n",
       "      <td>1.837679</td>\n",
       "      <td>PERIMETER</td>\n",
       "    </tr>\n",
       "    <tr>\n",
       "      <th>3</th>\n",
       "      <td>1.424844</td>\n",
       "      <td>MINOR_AXIS</td>\n",
       "    </tr>\n",
       "    <tr>\n",
       "      <th>4</th>\n",
       "      <td>1.199323</td>\n",
       "      <td>MAJOR_AXIS</td>\n",
       "    </tr>\n",
       "    <tr>\n",
       "      <th>5</th>\n",
       "      <td>1.147255</td>\n",
       "      <td>SHAPEFACTOR_1</td>\n",
       "    </tr>\n",
       "    <tr>\n",
       "      <th>6</th>\n",
       "      <td>1.106814</td>\n",
       "      <td>SHAPEFACTOR_2</td>\n",
       "    </tr>\n",
       "    <tr>\n",
       "      <th>7</th>\n",
       "      <td>0.406614</td>\n",
       "      <td>EntropyRR</td>\n",
       "    </tr>\n",
       "    <tr>\n",
       "      <th>8</th>\n",
       "      <td>0.358638</td>\n",
       "      <td>ECCENTRICITY</td>\n",
       "    </tr>\n",
       "    <tr>\n",
       "      <th>9</th>\n",
       "      <td>0.345830</td>\n",
       "      <td>COMPACTNESS</td>\n",
       "    </tr>\n",
       "    <tr>\n",
       "      <th>10</th>\n",
       "      <td>0.344536</td>\n",
       "      <td>SHAPEFACTOR_3</td>\n",
       "    </tr>\n",
       "    <tr>\n",
       "      <th>11</th>\n",
       "      <td>0.319888</td>\n",
       "      <td>EntropyRG</td>\n",
       "    </tr>\n",
       "    <tr>\n",
       "      <th>12</th>\n",
       "      <td>0.319438</td>\n",
       "      <td>ROUNDNESS</td>\n",
       "    </tr>\n",
       "    <tr>\n",
       "      <th>13</th>\n",
       "      <td>0.286923</td>\n",
       "      <td>EntropyRB</td>\n",
       "    </tr>\n",
       "    <tr>\n",
       "      <th>14</th>\n",
       "      <td>0.273618</td>\n",
       "      <td>ALLdaub4RG</td>\n",
       "    </tr>\n",
       "  </tbody>\n",
       "</table>\n",
       "</div>"
      ],
      "text/plain": [
       "          MI            col\n",
       "0   5.095102        EQDIASQ\n",
       "1   3.515899    CONVEX_AREA\n",
       "2   1.837679      PERIMETER\n",
       "3   1.424844     MINOR_AXIS\n",
       "4   1.199323     MAJOR_AXIS\n",
       "5   1.147255  SHAPEFACTOR_1\n",
       "6   1.106814  SHAPEFACTOR_2\n",
       "7   0.406614      EntropyRR\n",
       "8   0.358638   ECCENTRICITY\n",
       "9   0.345830    COMPACTNESS\n",
       "10  0.344536  SHAPEFACTOR_3\n",
       "11  0.319888      EntropyRG\n",
       "12  0.319438      ROUNDNESS\n",
       "13  0.286923      EntropyRB\n",
       "14  0.273618     ALLdaub4RG"
      ]
     },
     "execution_count": 5,
     "metadata": {},
     "output_type": "execute_result"
    }
   ],
   "source": [
    "from sklearn.feature_selection import mutual_info_regression\n",
    "bimportance = pd.DataFrame.from_dict(\n",
    "    {\n",
    "        'MI':mutual_info_regression(X_train1, y_train1),\n",
    "        'col' : X_train1.columns,\n",
    "    }\n",
    ").sort_values(by = 'MI', ascending=False).iloc[:15].reset_index(drop = True)\n",
    "bimportance"
   ]
  },
  {
   "cell_type": "code",
   "execution_count": 6,
   "id": "cb5be213",
   "metadata": {},
   "outputs": [],
   "source": [
    "breg = RandomForestRegressor(random_state=0).fit(X_train1[bimportance.col], y_train1)"
   ]
  },
  {
   "cell_type": "markdown",
   "id": "cede3faf",
   "metadata": {},
   "source": [
    "## c"
   ]
  },
  {
   "cell_type": "code",
   "execution_count": 7,
   "id": "d7402060",
   "metadata": {},
   "outputs": [],
   "source": [
    "apred = areg.predict(X_test1[aimportance.col])\n",
    "bpred = breg.predict(X_test1[bimportance.col])"
   ]
  },
  {
   "cell_type": "code",
   "execution_count": 8,
   "id": "4af58d9d",
   "metadata": {},
   "outputs": [],
   "source": [
    "from sklearn.metrics import mean_absolute_percentage_error\n",
    "from sklearn.metrics import r2_score"
   ]
  },
  {
   "cell_type": "code",
   "execution_count": 9,
   "id": "e5e40992",
   "metadata": {},
   "outputs": [
    {
     "name": "stdout",
     "output_type": "stream",
     "text": [
      "a) R^2: 0.9996247015827058  MAPE:  0.004341334223933075\n",
      "b) R^2: 0.9997426763537302  MAPE:  0.004191853543546487\n"
     ]
    }
   ],
   "source": [
    "print(\"a) R^2:\", r2_score(y_test1,apred), \" MAPE: \", mean_absolute_percentage_error(y_test1,apred))\n",
    "print(\"b) R^2:\", r2_score(y_test1,bpred), \" MAPE: \", mean_absolute_percentage_error(y_test1,bpred))"
   ]
  },
  {
   "cell_type": "markdown",
   "id": "319d259b",
   "metadata": {},
   "source": [
    "# d"
   ]
  },
  {
   "cell_type": "code",
   "execution_count": 10,
   "id": "772deace",
   "metadata": {},
   "outputs": [
    {
     "name": "stdout",
     "output_type": "stream",
     "text": [
      "a) kintamieji\n"
     ]
    },
    {
     "data": {
      "text/plain": [
       "['CONVEX_AREA',\n",
       " 'EQDIASQ',\n",
       " 'PERIMETER',\n",
       " 'MINOR_AXIS',\n",
       " 'MAJOR_AXIS',\n",
       " 'SHAPEFACTOR_2',\n",
       " 'EntropyRB',\n",
       " 'KurtosisRB',\n",
       " 'SkewRB',\n",
       " 'SkewRG',\n",
       " 'EntropyRG',\n",
       " 'ALLdaub4RG',\n",
       " 'MeanRG',\n",
       " 'ALLdaub4RB',\n",
       " 'MeanRB']"
      ]
     },
     "execution_count": 10,
     "metadata": {},
     "output_type": "execute_result"
    }
   ],
   "source": [
    "print(\"a) kintamieji\")\n",
    "aimportance.col.to_list()"
   ]
  },
  {
   "cell_type": "code",
   "execution_count": 11,
   "id": "585c5d45",
   "metadata": {},
   "outputs": [
    {
     "name": "stdout",
     "output_type": "stream",
     "text": [
      "b) kintamieji\n"
     ]
    },
    {
     "data": {
      "text/plain": [
       "['EQDIASQ',\n",
       " 'CONVEX_AREA',\n",
       " 'PERIMETER',\n",
       " 'MINOR_AXIS',\n",
       " 'MAJOR_AXIS',\n",
       " 'SHAPEFACTOR_1',\n",
       " 'SHAPEFACTOR_2',\n",
       " 'EntropyRR',\n",
       " 'ECCENTRICITY',\n",
       " 'COMPACTNESS',\n",
       " 'SHAPEFACTOR_3',\n",
       " 'EntropyRG',\n",
       " 'ROUNDNESS',\n",
       " 'EntropyRB',\n",
       " 'ALLdaub4RG']"
      ]
     },
     "execution_count": 11,
     "metadata": {},
     "output_type": "execute_result"
    }
   ],
   "source": [
    "print(\"b) kintamieji\")\n",
    "bimportance.col.to_list()"
   ]
  },
  {
   "cell_type": "markdown",
   "id": "80fc3392",
   "metadata": {},
   "source": [
    "# 2"
   ]
  },
  {
   "cell_type": "code",
   "execution_count": 12,
   "id": "b70c72cb",
   "metadata": {},
   "outputs": [],
   "source": [
    "from sklearn.preprocessing import MinMaxScaler\n",
    "from sklearn.decomposition import PCA\n",
    "from sklearn.compose import ColumnTransformer\n",
    "from sklearn.pipeline import Pipeline\n",
    "from sklearn.linear_model import LogisticRegression\n",
    "from sklearn.model_selection import GridSearchCV\n",
    "from sklearn.manifold import LocallyLinearEmbedding\n",
    "from sklearn.preprocessing import StandardScaler\n",
    "from sklearn.discriminant_analysis import LinearDiscriminantAnalysis\n",
    "from sklearn.metrics import classification_report\n",
    "from sklearn.preprocessing import MaxAbsScaler"
   ]
  },
  {
   "cell_type": "markdown",
   "id": "5638d7c4",
   "metadata": {},
   "source": [
    "## a"
   ]
  },
  {
   "cell_type": "code",
   "execution_count": 13,
   "id": "d15a43b1",
   "metadata": {},
   "outputs": [
    {
     "name": "stdout",
     "output_type": "stream",
     "text": [
      "Fitting 5 folds for each of 30 candidates, totalling 150 fits\n",
      "Geriausio modelio tikslumas testinėje aibėje: 0.916\n",
      "              precision    recall  f1-score   support\n",
      "\n",
      "       BERHI       0.88      0.82      0.85        17\n",
      "      DEGLET       0.80      0.80      0.80        25\n",
      "       DOKOL       0.92      0.96      0.94        49\n",
      "       IRAQI       0.83      1.00      0.91        15\n",
      "      ROTANA       1.00      0.91      0.95        46\n",
      "      SAFAVI       1.00      0.98      0.99        51\n",
      "       SOGAY       0.78      0.82      0.80        22\n",
      "\n",
      "    accuracy                           0.92       225\n",
      "   macro avg       0.89      0.90      0.89       225\n",
      "weighted avg       0.92      0.92      0.92       225\n",
      "\n"
     ]
    }
   ],
   "source": [
    "apipe = Pipeline(\n",
    "    [\n",
    "        (\"minmax\", MinMaxScaler(feature_range = (-1, 1))), \n",
    "        (\"pca\",  PCA()),\n",
    "        (\"LR\", LogisticRegression(random_state=0, max_iter = 1000000)),\n",
    "    ]\n",
    ")\n",
    "\n",
    "agrid = dict(\n",
    "    pca__n_components =  [2, 4, 6, 8, 16, 32], \n",
    "    LR__C = [0.01, 0.1, 1, 10, 100],\n",
    ")\n",
    "\n",
    "asearch = GridSearchCV(apipe, param_grid=agrid, verbose=1).fit(X_train, y_train)\n",
    "print(\"Geriausio modelio tikslumas testinėje aibėje: %.3f\" % asearch.score(X_test, y_test))\n",
    "print(classification_report(asearch.predict(X_test), y_test))"
   ]
  },
  {
   "cell_type": "code",
   "execution_count": 14,
   "id": "f4c4c29e",
   "metadata": {},
   "outputs": [],
   "source": [
    "# Matome kad 78% SOGAY klasės spėjimų buvo teisingi, galimai per dažnai spėjama ši klasė\n",
    "# Atspėjome visus IRAQI klasės datules ir tik 80% DEGLET klasės\n",
    "# Kitur rezultatai geri"
   ]
  },
  {
   "cell_type": "markdown",
   "id": "c671c4ad",
   "metadata": {},
   "source": [
    "## b"
   ]
  },
  {
   "cell_type": "code",
   "execution_count": 15,
   "id": "07df4dd2",
   "metadata": {},
   "outputs": [
    {
     "name": "stdout",
     "output_type": "stream",
     "text": [
      "Fitting 5 folds for each of 20 candidates, totalling 100 fits\n",
      "Geriausio modelio tikslumas testinėje aibėje: 0.871\n",
      "              precision    recall  f1-score   support\n",
      "\n",
      "       BERHI       0.69      0.61      0.65        18\n",
      "      DEGLET       0.64      0.76      0.70        21\n",
      "       DOKOL       0.94      0.91      0.92        53\n",
      "       IRAQI       0.72      0.87      0.79        15\n",
      "      ROTANA       1.00      0.98      0.99        43\n",
      "      SAFAVI       0.96      0.98      0.97        49\n",
      "       SOGAY       0.78      0.69      0.73        26\n",
      "\n",
      "    accuracy                           0.87       225\n",
      "   macro avg       0.82      0.83      0.82       225\n",
      "weighted avg       0.88      0.87      0.87       225\n",
      "\n"
     ]
    }
   ],
   "source": [
    "bpipe = Pipeline(\n",
    "    [\n",
    "        (\"minmax\", MinMaxScaler(feature_range = (0, 1))), \n",
    "        (\"lle\",   LocallyLinearEmbedding()),\n",
    "        (\"LR\", LogisticRegression(random_state=0, max_iter = 1000000)),\n",
    "    ]\n",
    ")\n",
    "\n",
    "bgrid = dict(\n",
    "    lle__n_components =  [2, 8, 32, 34], \n",
    "    LR__C = [0.01, 0.1, 1, 10, 100],\n",
    ")\n",
    "\n",
    "bsearch = GridSearchCV(bpipe, param_grid=bgrid, verbose=1).fit(X_train, y_train)\n",
    "print(\"Geriausio modelio tikslumas testinėje aibėje: %.3f\" % bsearch.score(X_test, y_test))\n",
    "print(classification_report(bsearch.predict(X_test), y_test))"
   ]
  },
  {
   "cell_type": "code",
   "execution_count": 16,
   "id": "2f634738",
   "metadata": {},
   "outputs": [],
   "source": [
    "# Sąlyginai prastai spėjama BERHI klasė\n",
    "# Tik 61% jų buvo identifikuota teisingai ir tik 69% spėjimų kad tai ši klasį buvo teisingi\n",
    "# Taip pat buvo sunkumų su DEGLET klase"
   ]
  },
  {
   "cell_type": "markdown",
   "id": "cdac30c5",
   "metadata": {},
   "source": [
    "## c"
   ]
  },
  {
   "cell_type": "code",
   "execution_count": 17,
   "id": "d4fc1435",
   "metadata": {},
   "outputs": [
    {
     "name": "stdout",
     "output_type": "stream",
     "text": [
      "Fitting 5 folds for each of 30 candidates, totalling 150 fits\n",
      "Geriausio modelio tikslumas testinėje aibėje: 0.933\n",
      "              precision    recall  f1-score   support\n",
      "\n",
      "       BERHI       0.94      0.79      0.86        19\n",
      "      DEGLET       0.84      0.84      0.84        25\n",
      "       DOKOL       0.92      0.96      0.94        49\n",
      "       IRAQI       0.83      0.94      0.88        16\n",
      "      ROTANA       1.00      0.91      0.95        46\n",
      "      SAFAVI       0.98      1.00      0.99        49\n",
      "       SOGAY       0.91      1.00      0.95        21\n",
      "\n",
      "    accuracy                           0.93       225\n",
      "   macro avg       0.92      0.92      0.92       225\n",
      "weighted avg       0.94      0.93      0.93       225\n",
      "\n"
     ]
    }
   ],
   "source": [
    "cpipe = Pipeline(\n",
    "    [\n",
    "        (\"standard\", StandardScaler()), \n",
    "        (\"lda\",   LinearDiscriminantAnalysis()),\n",
    "        (\"LR\", LogisticRegression(random_state=0, max_iter = 1000000)),\n",
    "    ]\n",
    ")\n",
    "\n",
    "cgrid = dict(\n",
    "    lda__n_components =  [1, 2, 3, 4, 5, 6], \n",
    "    LR__C = [0.01, 0.1, 1, 10, 100],\n",
    ")\n",
    "\n",
    "csearch = GridSearchCV(cpipe, param_grid=cgrid, verbose=1).fit(X_train, y_train)\n",
    "print(\"Geriausio modelio tikslumas testinėje aibėje: %.3f\" % csearch.score(X_test, y_test))\n",
    "print(classification_report(csearch.predict(X_test), y_test))"
   ]
  },
  {
   "cell_type": "code",
   "execution_count": 18,
   "id": "264e1915",
   "metadata": {},
   "outputs": [],
   "source": [
    "# Visos klasės spėjamos labai gerai"
   ]
  },
  {
   "cell_type": "markdown",
   "id": "159e8115",
   "metadata": {},
   "source": [
    "### b modelis be skales keitimo"
   ]
  },
  {
   "cell_type": "code",
   "execution_count": 19,
   "id": "af09005d",
   "metadata": {},
   "outputs": [
    {
     "name": "stdout",
     "output_type": "stream",
     "text": [
      "Fitting 5 folds for each of 20 candidates, totalling 100 fits\n",
      "Geriausio modelio tikslumas testinėje aibėje: 0.702\n"
     ]
    }
   ],
   "source": [
    "b2pipe = Pipeline(\n",
    "    [\n",
    "        (\"lle\",   LocallyLinearEmbedding()),\n",
    "        (\"LR\", LogisticRegression(random_state=0, max_iter = 1000000)),\n",
    "    ]\n",
    ")\n",
    "\n",
    "b2grid = dict(\n",
    "    lle__n_components =  [2, 8, 32, 34], \n",
    "    LR__C = [0.01, 0.1, 1, 10, 100],\n",
    ")\n",
    "\n",
    "b2search = GridSearchCV(b2pipe, param_grid=b2grid, verbose=1).fit(X_train, y_train)\n",
    "print(\"Geriausio modelio tikslumas testinėje aibėje: %.3f\" % b2search.score(X_test, y_test))"
   ]
  },
  {
   "cell_type": "code",
   "execution_count": 20,
   "id": "9696d671",
   "metadata": {},
   "outputs": [],
   "source": [
    "# Rezultatas suprastejo mazdaug per 17%"
   ]
  },
  {
   "cell_type": "markdown",
   "id": "59e78490",
   "metadata": {},
   "source": [
    "### a modelis su maksimumo normavimu"
   ]
  },
  {
   "cell_type": "code",
   "execution_count": 21,
   "id": "e5a1d79f",
   "metadata": {},
   "outputs": [
    {
     "name": "stdout",
     "output_type": "stream",
     "text": [
      "Fitting 5 folds for each of 30 candidates, totalling 150 fits\n",
      "Geriausio modelio tikslumas testinėje aibėje: 0.916\n"
     ]
    }
   ],
   "source": [
    "a2pipe = Pipeline(\n",
    "    [\n",
    "        (\"maxabs\", MaxAbsScaler()), \n",
    "        (\"pca\",  PCA()),\n",
    "        (\"LR\", LogisticRegression(random_state=0, max_iter = 1000000)),\n",
    "    ]\n",
    ")\n",
    "\n",
    "a2grid = dict(\n",
    "    pca__n_components =  [2, 4, 6, 8, 16, 32], \n",
    "    LR__C = [0.01, 0.1, 1, 10, 100],\n",
    ")\n",
    "\n",
    "a2search = GridSearchCV(a2pipe, param_grid=a2grid, verbose=1).fit(X_train, y_train)\n",
    "print(\"Geriausio modelio tikslumas testinėje aibėje: %.3f\" % a2search.score(X_test, y_test))"
   ]
  },
  {
   "cell_type": "code",
   "execution_count": 22,
   "id": "687261c7",
   "metadata": {},
   "outputs": [],
   "source": [
    "# Rezultatas nepasikeite"
   ]
  }
 ],
 "metadata": {
  "kernelspec": {
   "display_name": "Python 3 (ipykernel)",
   "language": "python",
   "name": "python3"
  },
  "language_info": {
   "codemirror_mode": {
    "name": "ipython",
    "version": 3
   },
   "file_extension": ".py",
   "mimetype": "text/x-python",
   "name": "python",
   "nbconvert_exporter": "python",
   "pygments_lexer": "ipython3",
   "version": "3.8.13"
  }
 },
 "nbformat": 4,
 "nbformat_minor": 5
}
